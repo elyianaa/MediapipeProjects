{
 "cells": [
  {
   "cell_type": "code",
   "execution_count": 1,
   "metadata": {},
   "outputs": [],
   "source": [
    "import cv2\n",
    "import numpy as np\n",
    "import os\n",
    "from matplotlib import pyplot as plt\n",
    "import time\n",
    "import mediapipe as mp"
   ]
  },
  {
   "cell_type": "markdown",
   "metadata": {},
   "source": [
    "### Keypoints using MP Holistic"
   ]
  },
  {
   "cell_type": "code",
   "execution_count": 2,
   "metadata": {},
   "outputs": [],
   "source": [
    "mp_holistic = mp.solutions.holistic # Holistic model\n",
    "mp_drawing = mp.solutions.drawing_utils # Drawing utilities\n",
    "mp_face_mesh = mp.solutions.face_mesh"
   ]
  },
  {
   "cell_type": "code",
   "execution_count": 3,
   "metadata": {},
   "outputs": [],
   "source": [
    "def mediapipe_detection(image, model):\n",
    "    image = cv2.cvtColor(image, cv2.COLOR_BGR2RGB) # COLOR CONVERSION BGR 2 RGB\n",
    "    image.flags.writeable = False                  # Image is no longer writeable\n",
    "    results = model.process(image)                 # Make prediction\n",
    "    image.flags.writeable = True                   # Image is now writeable \n",
    "    image = cv2.cvtColor(image, cv2.COLOR_RGB2BGR) # COLOR COVERSION RGB 2 BGR\n",
    "    return image, results"
   ]
  },
  {
   "cell_type": "code",
   "execution_count": 4,
   "metadata": {},
   "outputs": [],
   "source": [
    "def draw_landmarks(image, results):\n",
    "    # # draw face landmarks\n",
    "    # mp_drawing.draw_landmarks(image, results.face_landmarks, mp_face_mesh.FACEMESH_CONTOURS,\n",
    "    #                           mp_drawing.DrawingSpec(color=(80, 110, 10), thickness=1, circle_radius=1),\n",
    "    #                           mp_drawing.DrawingSpec(color=(80, 256, 121), thickness=1, circle_radius=1)\n",
    "    #                           )\n",
    "\n",
    "    # right hand\n",
    "    mp_drawing.draw_landmarks(image, results.right_hand_landmarks, mp_holistic.HAND_CONNECTIONS,\n",
    "                              mp_drawing.DrawingSpec(color=(80, 22, 10), thickness=2, circle_radius=4),\n",
    "                              mp_drawing.DrawingSpec(color=(80, 44, 121), thickness=2, circle_radius=2)\n",
    "                              )\n",
    "\n",
    "    # left hand\n",
    "    mp_drawing.draw_landmarks(image, results.left_hand_landmarks, mp_holistic.HAND_CONNECTIONS,\n",
    "                              mp_drawing.DrawingSpec(color=(121, 22, 76), thickness=2, circle_radius=4),\n",
    "                              mp_drawing.DrawingSpec(color=(121, 44, 250), thickness=1, circle_radius=2)\n",
    "                              )\n",
    "\n",
    "    # pose detections\n",
    "    mp_drawing.draw_landmarks(image, results.pose_landmarks, mp_holistic.POSE_CONNECTIONS,\n",
    "                              mp_drawing.DrawingSpec(color=(245, 117, 66), thickness=2, circle_radius=4),\n",
    "                              mp_drawing.DrawingSpec(color=(245, 66, 230), thickness=2, circle_radius=2)\n",
    "                              )"
   ]
  },
  {
   "cell_type": "code",
   "execution_count": 5,
   "metadata": {},
   "outputs": [
    {
     "name": "stdout",
     "output_type": "stream",
     "text": [
      "<class 'mediapipe.python.solution_base.SolutionOutputs'>\n",
      "<class 'mediapipe.python.solution_base.SolutionOutputs'>\n",
      "<class 'mediapipe.python.solution_base.SolutionOutputs'>\n",
      "<class 'mediapipe.python.solution_base.SolutionOutputs'>\n",
      "<class 'mediapipe.python.solution_base.SolutionOutputs'>\n",
      "<class 'mediapipe.python.solution_base.SolutionOutputs'>\n",
      "<class 'mediapipe.python.solution_base.SolutionOutputs'>\n",
      "<class 'mediapipe.python.solution_base.SolutionOutputs'>\n",
      "<class 'mediapipe.python.solution_base.SolutionOutputs'>\n",
      "<class 'mediapipe.python.solution_base.SolutionOutputs'>\n",
      "<class 'mediapipe.python.solution_base.SolutionOutputs'>\n",
      "<class 'mediapipe.python.solution_base.SolutionOutputs'>\n",
      "<class 'mediapipe.python.solution_base.SolutionOutputs'>\n",
      "<class 'mediapipe.python.solution_base.SolutionOutputs'>\n",
      "<class 'mediapipe.python.solution_base.SolutionOutputs'>\n",
      "<class 'mediapipe.python.solution_base.SolutionOutputs'>\n",
      "<class 'mediapipe.python.solution_base.SolutionOutputs'>\n",
      "<class 'mediapipe.python.solution_base.SolutionOutputs'>\n",
      "<class 'mediapipe.python.solution_base.SolutionOutputs'>\n",
      "<class 'mediapipe.python.solution_base.SolutionOutputs'>\n",
      "<class 'mediapipe.python.solution_base.SolutionOutputs'>\n",
      "<class 'mediapipe.python.solution_base.SolutionOutputs'>\n",
      "<class 'mediapipe.python.solution_base.SolutionOutputs'>\n",
      "<class 'mediapipe.python.solution_base.SolutionOutputs'>\n",
      "<class 'mediapipe.python.solution_base.SolutionOutputs'>\n",
      "<class 'mediapipe.python.solution_base.SolutionOutputs'>\n",
      "<class 'mediapipe.python.solution_base.SolutionOutputs'>\n",
      "<class 'mediapipe.python.solution_base.SolutionOutputs'>\n",
      "<class 'mediapipe.python.solution_base.SolutionOutputs'>\n",
      "<class 'mediapipe.python.solution_base.SolutionOutputs'>\n",
      "<class 'mediapipe.python.solution_base.SolutionOutputs'>\n",
      "<class 'mediapipe.python.solution_base.SolutionOutputs'>\n",
      "<class 'mediapipe.python.solution_base.SolutionOutputs'>\n",
      "<class 'mediapipe.python.solution_base.SolutionOutputs'>\n",
      "<class 'mediapipe.python.solution_base.SolutionOutputs'>\n",
      "<class 'mediapipe.python.solution_base.SolutionOutputs'>\n",
      "<class 'mediapipe.python.solution_base.SolutionOutputs'>\n",
      "<class 'mediapipe.python.solution_base.SolutionOutputs'>\n",
      "<class 'mediapipe.python.solution_base.SolutionOutputs'>\n",
      "<class 'mediapipe.python.solution_base.SolutionOutputs'>\n",
      "<class 'mediapipe.python.solution_base.SolutionOutputs'>\n",
      "<class 'mediapipe.python.solution_base.SolutionOutputs'>\n",
      "<class 'mediapipe.python.solution_base.SolutionOutputs'>\n",
      "<class 'mediapipe.python.solution_base.SolutionOutputs'>\n",
      "<class 'mediapipe.python.solution_base.SolutionOutputs'>\n",
      "<class 'mediapipe.python.solution_base.SolutionOutputs'>\n",
      "<class 'mediapipe.python.solution_base.SolutionOutputs'>\n",
      "<class 'mediapipe.python.solution_base.SolutionOutputs'>\n",
      "<class 'mediapipe.python.solution_base.SolutionOutputs'>\n",
      "<class 'mediapipe.python.solution_base.SolutionOutputs'>\n",
      "<class 'mediapipe.python.solution_base.SolutionOutputs'>\n",
      "<class 'mediapipe.python.solution_base.SolutionOutputs'>\n",
      "<class 'mediapipe.python.solution_base.SolutionOutputs'>\n",
      "<class 'mediapipe.python.solution_base.SolutionOutputs'>\n",
      "<class 'mediapipe.python.solution_base.SolutionOutputs'>\n",
      "<class 'mediapipe.python.solution_base.SolutionOutputs'>\n",
      "<class 'mediapipe.python.solution_base.SolutionOutputs'>\n",
      "<class 'mediapipe.python.solution_base.SolutionOutputs'>\n",
      "<class 'mediapipe.python.solution_base.SolutionOutputs'>\n",
      "<class 'mediapipe.python.solution_base.SolutionOutputs'>\n"
     ]
    }
   ],
   "source": [
    "cap = cv2.VideoCapture(0)\n",
    "# Set mediapipe model \n",
    "with mp_holistic.Holistic(min_detection_confidence=0.5, min_tracking_confidence=0.5) as holistic:\n",
    "    while cap.isOpened():\n",
    "\n",
    "        # Read feed\n",
    "        ret, frame = cap.read()\n",
    "\n",
    "        # Make detections\n",
    "        image, results = mediapipe_detection(frame, holistic)\n",
    "        print(results)\n",
    "        \n",
    "        # Draw landmarks\n",
    "        draw_landmarks(image, results)\n",
    "\n",
    "        # Show to screen\n",
    "        cv2.imshow('OpenCV Feed', image)\n",
    "\n",
    "        # Break gracefully\n",
    "        if cv2.waitKey(10) & 0xFF == ord('q'):\n",
    "            break\n",
    "    cap.release()\n",
    "    cv2.destroyAllWindows()"
   ]
  },
  {
   "cell_type": "code",
   "execution_count": 6,
   "metadata": {},
   "outputs": [
    {
     "data": {
      "text/plain": [
       "21"
      ]
     },
     "execution_count": 6,
     "metadata": {},
     "output_type": "execute_result"
    }
   ],
   "source": [
    "# len(results.right_hand_landmarks.landmark)\n",
    "len(results.left_hand_landmarks.landmark)\n",
    "# len(results.pose_landmarks.landmark)\n",
    "# len(results.face_landmarks.landmark)"
   ]
  },
  {
   "cell_type": "code",
   "execution_count": 7,
   "metadata": {},
   "outputs": [
    {
     "data": {
      "text/plain": [
       "mediapipe.python.solution_base.SolutionOutputs"
      ]
     },
     "execution_count": 7,
     "metadata": {},
     "output_type": "execute_result"
    }
   ],
   "source": [
    "results"
   ]
  },
  {
   "cell_type": "code",
   "execution_count": 8,
   "metadata": {},
   "outputs": [],
   "source": [
    "draw_landmarks(frame, results)"
   ]
  },
  {
   "cell_type": "code",
   "execution_count": 9,
   "metadata": {},
   "outputs": [
    {
     "data": {
      "text/plain": [
       "<matplotlib.image.AxesImage at 0x23c9e7a05b0>"
      ]
     },
     "execution_count": 9,
     "metadata": {},
     "output_type": "execute_result"
    },
    {
     "data": {
      "image/png": "[encoded data removed]",
      "text/plain": [
       "<Figure size 432x288 with 1 Axes>"
      ]
     },
     "metadata": {
      "needs_background": "light"
     },
     "output_type": "display_data"
    }
   ],
   "source": [
    "plt.imshow(cv2.cvtColor(frame, cv2.COLOR_BGR2RGB))"
   ]
  },
  {
   "cell_type": "markdown",
   "metadata": {},
   "source": [
    "### Extract Keypoint Values"
   ]
  },
  {
   "cell_type": "code",
   "execution_count": 10,
   "metadata": {},
   "outputs": [
    {
     "data": {
      "text/plain": [
       "21"
      ]
     },
     "execution_count": 10,
     "metadata": {},
     "output_type": "execute_result"
    }
   ],
   "source": [
    "len(results.left_hand_landmarks.landmark)"
   ]
  },
  {
   "cell_type": "code",
   "execution_count": 11,
   "metadata": {},
   "outputs": [],
   "source": [
    "pose = np.array([[res.x, res.y, res.z, res.visibility] for res in results.pose_landmarks.landmark]).flatten() if results.pose_landmarks else np.zeros(132)\n",
    "# face = np.array([[res.x, res.y, res.z] for res in results.face_landmarks.landmark]).flatten() if results.face_landmarks else np.zeros(1404)\n",
    "lh = np.array([[res.x, res.y, res.z] for res in results.left_hand_landmarks.landmark]).flatten() if results.left_hand_landmarks else np.zeros(21*3)\n",
    "rh = np.array([[res.x, res.y, res.z] for res in results.right_hand_landmarks.landmark]).flatten() if results.right_hand_landmarks else np.zeros(21*3)"
   ]
  },
  {
   "cell_type": "code",
   "execution_count": 12,
   "metadata": {},
   "outputs": [
    {
     "data": {
      "text/plain": [
       "array([ 8.83337080e-01,  8.24843347e-01,  4.68397246e-07,  8.20370853e-01,\n",
       "        8.06149781e-01, -1.09464563e-02,  7.70402849e-01,  7.43201077e-01,\n",
       "       -1.94949936e-02,  7.43293226e-01,  6.83767438e-01, -3.35475728e-02,\n",
       "        7.26540685e-01,  6.21865809e-01, -4.53566574e-02,  7.76383698e-01,\n",
       "        6.54247046e-01,  5.52312704e-05,  7.20959961e-01,  5.81877530e-01,\n",
       "       -1.42721497e-02,  6.91207230e-01,  5.42967141e-01, -1.97193604e-02,\n",
       "        6.68808341e-01,  5.04992783e-01, -2.33762637e-02,  8.06966186e-01,\n",
       "        6.29806459e-01, -1.16407666e-02,  7.74649918e-01,  5.12178123e-01,\n",
       "       -3.29405218e-02,  7.53869951e-01,  4.56496060e-01, -4.56240997e-02,\n",
       "        7.39267230e-01,  4.11468744e-01, -5.15113324e-02,  8.39137793e-01,\n",
       "        6.26862109e-01, -2.63844170e-02,  7.79056489e-01,  5.65701485e-01,\n",
       "       -5.81522733e-02,  7.58230031e-01,  6.31901741e-01, -6.04774095e-02,\n",
       "        7.53670156e-01,  6.82591677e-01, -5.26043400e-02,  8.68570268e-01,\n",
       "        6.33978665e-01, -4.23261262e-02,  8.15994203e-01,  5.83220243e-01,\n",
       "       -6.55126646e-02,  7.83865273e-01,  5.96533775e-01, -6.69964477e-02,\n",
       "        7.62106717e-01,  6.11069620e-01, -6.34922758e-02])"
      ]
     },
     "execution_count": 12,
     "metadata": {},
     "output_type": "execute_result"
    }
   ],
   "source": [
    "lh"
   ]
  },
  {
   "cell_type": "code",
   "execution_count": 13,
   "metadata": {},
   "outputs": [],
   "source": [
    "def extract_keypoints(results):\n",
    "    pose = np.array([[res.x, res.y, res.z, res.visibility] for res in results.pose_landmarks.landmark]).flatten() if results.pose_landmarks else np.zeros(33*4)\n",
    "    face = np.array([[res.x, res.y, res.z] for res in results.face_landmarks.landmark]).flatten() if results.face_landmarks else np.zeros(468*3)\n",
    "    lh = np.array([[res.x, res.y, res.z] for res in results.left_hand_landmarks.landmark]).flatten() if results.left_hand_landmarks else np.zeros(21*3)\n",
    "    rh = np.array([[res.x, res.y, res.z] for res in results.right_hand_landmarks.landmark]).flatten() if results.right_hand_landmarks else np.zeros(21*3)\n",
    "    return np.concatenate([pose, face, lh, rh])"
   ]
  },
  {
   "cell_type": "code",
   "execution_count": 14,
   "metadata": {},
   "outputs": [],
   "source": [
    "result_test = extract_keypoints(results)"
   ]
  },
  {
   "cell_type": "code",
   "execution_count": 15,
   "metadata": {},
   "outputs": [
    {
     "data": {
      "text/plain": [
       "array([ 0.52336162,  0.73775017, -1.7973249 , ...,  0.        ,\n",
       "        0.        ,  0.        ])"
      ]
     },
     "execution_count": 15,
     "metadata": {},
     "output_type": "execute_result"
    }
   ],
   "source": [
    "result_test"
   ]
  },
  {
   "cell_type": "code",
   "execution_count": 16,
   "metadata": {},
   "outputs": [],
   "source": [
    "np.save('extract_keypoints', result_test)"
   ]
  },
  {
   "cell_type": "code",
   "execution_count": 17,
   "metadata": {},
   "outputs": [
    {
     "data": {
      "text/plain": [
       "array([ 0.52336162,  0.73775017, -1.7973249 , ...,  0.        ,\n",
       "        0.        ,  0.        ])"
      ]
     },
     "execution_count": 17,
     "metadata": {},
     "output_type": "execute_result"
    }
   ],
   "source": [
    "np.load('extract_keypoints.npy')"
   ]
  },
  {
   "cell_type": "markdown",
   "metadata": {},
   "source": [
    "### Setup Folders for Collection"
   ]
  },
  {
   "cell_type": "code",
   "execution_count": 18,
   "metadata": {},
   "outputs": [],
   "source": [
    "# Path for exported data, numpy arrays\n",
    "DATA_PATH = os.path.join('MP_Data')\n",
    "\n",
    "# Actions that we try to detect\n",
    "actions = np.array(['rock', 'paper', 'scissors'])\n",
    "\n",
    "# Thirty videos with of data\n",
    "no_sequences = 30\n",
    "\n",
    "# Videos are going to be 30 frames in length\n",
    "sequence_length = 30"
   ]
  },
  {
   "cell_type": "code",
   "execution_count": 84,
   "metadata": {},
   "outputs": [],
   "source": [
    "from os import makedirs\n",
    "\n",
    "for action in actions:\n",
    "    for sequence in range(no_sequences):\n",
    "        try:\n",
    "            os.makedirs(os.path.join(DATA_PATH, action, str(sequence)))\n",
    "        except:\n",
    "            pass"
   ]
  },
  {
   "cell_type": "markdown",
   "metadata": {},
   "source": [
    "### Collect Keypoint Values for Training"
   ]
  },
  {
   "cell_type": "code",
   "execution_count": 85,
   "metadata": {},
   "outputs": [],
   "source": [
    "cap = cv2.VideoCapture(0)\n",
    "# Set mediapipe model \n",
    "with mp_holistic.Holistic(min_detection_confidence=0.5, min_tracking_confidence=0.5) as holistic:\n",
    "    \n",
    "    # Loop through actions\n",
    "    for action in actions:\n",
    "        # Loop through sequences aka videos\n",
    "        for sequence in range(no_sequences):\n",
    "            # Loop through video length aka sequence length \n",
    "            for frame_num in range(sequence_length):\n",
    "\n",
    "                # Read feed\n",
    "                ret, frame = cap.read()\n",
    "\n",
    "                # Make detections\n",
    "                image, results = mediapipe_detection(frame, holistic)\n",
    "                # print(results)\n",
    "                \n",
    "                # Draw landmarks\n",
    "                draw_landmarks(image, results)\n",
    "                \n",
    "                # Apply collection logic\n",
    "                if frame_num == 0: \n",
    "                    cv2.putText(image, 'STARTING COLLECTION', (120,200), \n",
    "                               cv2.FONT_HERSHEY_SIMPLEX, 1, (0,255, 0), 4, cv2.LINE_AA)\n",
    "                    cv2.putText(image, 'Collecting frames for {} Video Number {}'.format(action, sequence), (15,12), \n",
    "                               cv2.FONT_HERSHEY_SIMPLEX, 0.5, (0, 0, 255), 1, cv2.LINE_AA)\n",
    "                    \n",
    "                    # Show to screen\n",
    "                    cv2.imshow('OpenCV Feed', image)\n",
    "                    cv2.waitKey(2000)\n",
    "                else: \n",
    "                    cv2.putText(image, 'Collecting frames for {} Video Number {}'.format(action, sequence), (15,12), \n",
    "                               cv2.FONT_HERSHEY_SIMPLEX, 0.5, (0, 0, 255), 1, cv2.LINE_AA)\n",
    "                    \n",
    "                    # Show to screen\n",
    "                    cv2.imshow('OpenCV Feed', image)\n",
    "                    \n",
    "                # Export keypoints\n",
    "                keypoints = extract_keypoints(results)\n",
    "                npy_path = os.path.join(DATA_PATH, action, str(sequence), str(frame_num))\n",
    "                np.save(npy_path, keypoints)\n",
    "\n",
    "                # Break gracefully\n",
    "                if cv2.waitKey(10) & 0xFF == ord('q'):\n",
    "                    break\n",
    "            \n",
    "    cap.release()\n",
    "    cv2.destroyAllWindows()"
   ]
  },
  {
   "cell_type": "markdown",
   "metadata": {},
   "source": [
    "### Preprocess Data and Create Labels & Features"
   ]
  },
  {
   "cell_type": "code",
   "execution_count": 19,
   "metadata": {},
   "outputs": [],
   "source": [
    "from sklearn.model_selection import train_test_split\n",
    "from keras.utils import to_categorical"
   ]
  },
  {
   "cell_type": "code",
   "execution_count": 20,
   "metadata": {},
   "outputs": [],
   "source": [
    "label_map = {label:num for num, label in enumerate(actions)}"
   ]
  },
  {
   "cell_type": "code",
   "execution_count": 21,
   "metadata": {},
   "outputs": [
    {
     "data": {
      "text/plain": [
       "{'rock': 0, 'paper': 1, 'scissors': 2}"
      ]
     },
     "execution_count": 21,
     "metadata": {},
     "output_type": "execute_result"
    }
   ],
   "source": [
    "label_map"
   ]
  },
  {
   "cell_type": "code",
   "execution_count": 22,
   "metadata": {},
   "outputs": [],
   "source": [
    "sequences, labels = [], []\n",
    "for action in actions:\n",
    "    for sequence in range(no_sequences):\n",
    "        window = []\n",
    "        for frame_num in range(sequence_length):\n",
    "            res = np.load(os.path.join(DATA_PATH, action, str(sequence), \"{}.npy\".format(frame_num)))\n",
    "            window.append(res)\n",
    "        sequences.append(window)\n",
    "        labels.append(label_map[action])"
   ]
  },
  {
   "cell_type": "code",
   "execution_count": 23,
   "metadata": {},
   "outputs": [
    {
     "data": {
      "text/plain": [
       "(90, 30, 1662)"
      ]
     },
     "execution_count": 23,
     "metadata": {},
     "output_type": "execute_result"
    }
   ],
   "source": [
    "np.array(sequences).shape"
   ]
  },
  {
   "cell_type": "code",
   "execution_count": 24,
   "metadata": {},
   "outputs": [
    {
     "data": {
      "text/plain": [
       "(90,)"
      ]
     },
     "execution_count": 24,
     "metadata": {},
     "output_type": "execute_result"
    }
   ],
   "source": [
    "np.array(labels).shape"
   ]
  },
  {
   "cell_type": "code",
   "execution_count": 25,
   "metadata": {},
   "outputs": [
    {
     "data": {
      "text/plain": [
       "(90, 30, 1662)"
      ]
     },
     "execution_count": 25,
     "metadata": {},
     "output_type": "execute_result"
    }
   ],
   "source": [
    "X = np.array(sequences)\n",
    "X.shape"
   ]
  },
  {
   "cell_type": "code",
   "execution_count": 26,
   "metadata": {},
   "outputs": [
    {
     "data": {
      "text/plain": [
       "array([[1, 0, 0],\n",
       "       [1, 0, 0],\n",
       "       [1, 0, 0],\n",
       "       [1, 0, 0],\n",
       "       [1, 0, 0],\n",
       "       [1, 0, 0],\n",
       "       [1, 0, 0],\n",
       "       [1, 0, 0],\n",
       "       [1, 0, 0],\n",
       "       [1, 0, 0],\n",
       "       [1, 0, 0],\n",
       "       [1, 0, 0],\n",
       "       [1, 0, 0],\n",
       "       [1, 0, 0],\n",
       "       [1, 0, 0],\n",
       "       [1, 0, 0],\n",
       "       [1, 0, 0],\n",
       "       [1, 0, 0],\n",
       "       [1, 0, 0],\n",
       "       [1, 0, 0],\n",
       "       [1, 0, 0],\n",
       "       [1, 0, 0],\n",
       "       [1, 0, 0],\n",
       "       [1, 0, 0],\n",
       "       [1, 0, 0],\n",
       "       [1, 0, 0],\n",
       "       [1, 0, 0],\n",
       "       [1, 0, 0],\n",
       "       [1, 0, 0],\n",
       "       [1, 0, 0],\n",
       "       [0, 1, 0],\n",
       "       [0, 1, 0],\n",
       "       [0, 1, 0],\n",
       "       [0, 1, 0],\n",
       "       [0, 1, 0],\n",
       "       [0, 1, 0],\n",
       "       [0, 1, 0],\n",
       "       [0, 1, 0],\n",
       "       [0, 1, 0],\n",
       "       [0, 1, 0],\n",
       "       [0, 1, 0],\n",
       "       [0, 1, 0],\n",
       "       [0, 1, 0],\n",
       "       [0, 1, 0],\n",
       "       [0, 1, 0],\n",
       "       [0, 1, 0],\n",
       "       [0, 1, 0],\n",
       "       [0, 1, 0],\n",
       "       [0, 1, 0],\n",
       "       [0, 1, 0],\n",
       "       [0, 1, 0],\n",
       "       [0, 1, 0],\n",
       "       [0, 1, 0],\n",
       "       [0, 1, 0],\n",
       "       [0, 1, 0],\n",
       "       [0, 1, 0],\n",
       "       [0, 1, 0],\n",
       "       [0, 1, 0],\n",
       "       [0, 1, 0],\n",
       "       [0, 1, 0],\n",
       "       [0, 0, 1],\n",
       "       [0, 0, 1],\n",
       "       [0, 0, 1],\n",
       "       [0, 0, 1],\n",
       "       [0, 0, 1],\n",
       "       [0, 0, 1],\n",
       "       [0, 0, 1],\n",
       "       [0, 0, 1],\n",
       "       [0, 0, 1],\n",
       "       [0, 0, 1],\n",
       "       [0, 0, 1],\n",
       "       [0, 0, 1],\n",
       "       [0, 0, 1],\n",
       "       [0, 0, 1],\n",
       "       [0, 0, 1],\n",
       "       [0, 0, 1],\n",
       "       [0, 0, 1],\n",
       "       [0, 0, 1],\n",
       "       [0, 0, 1],\n",
       "       [0, 0, 1],\n",
       "       [0, 0, 1],\n",
       "       [0, 0, 1],\n",
       "       [0, 0, 1],\n",
       "       [0, 0, 1],\n",
       "       [0, 0, 1],\n",
       "       [0, 0, 1],\n",
       "       [0, 0, 1],\n",
       "       [0, 0, 1],\n",
       "       [0, 0, 1],\n",
       "       [0, 0, 1]])"
      ]
     },
     "execution_count": 26,
     "metadata": {},
     "output_type": "execute_result"
    }
   ],
   "source": [
    "y = to_categorical(labels).astype(int)\n",
    "y"
   ]
  },
  {
   "cell_type": "code",
   "execution_count": 27,
   "metadata": {},
   "outputs": [
    {
     "data": {
      "text/plain": [
       "(5, 3)"
      ]
     },
     "execution_count": 27,
     "metadata": {},
     "output_type": "execute_result"
    }
   ],
   "source": [
    "X_train, X_test, y_train, y_test = train_test_split(X, y, test_size=0.05)\n",
    "y_test.shape\n"
   ]
  },
  {
   "cell_type": "markdown",
   "metadata": {},
   "source": [
    "### Build and Train LSTM Neural Network"
   ]
  },
  {
   "cell_type": "code",
   "execution_count": 28,
   "metadata": {},
   "outputs": [],
   "source": [
    "from keras.models import Sequential\n",
    "from keras.layers import LSTM, Dense\n",
    "from keras.callbacks import TensorBoard"
   ]
  },
  {
   "cell_type": "code",
   "execution_count": 29,
   "metadata": {},
   "outputs": [],
   "source": [
    "log_dir = os.path.join('Logs')\n",
    "tb_callback = TensorBoard(log_dir=log_dir)"
   ]
  },
  {
   "cell_type": "code",
   "execution_count": 30,
   "metadata": {},
   "outputs": [],
   "source": [
    "model = Sequential()\n",
    "model.add(LSTM(64, return_sequences=True, activation='relu', input_shape=(30,1662)))\n",
    "model.add(LSTM(128, return_sequences=True, activation='relu'))\n",
    "model.add(LSTM(64, return_sequences=False, activation='relu'))\n",
    "model.add(Dense(64, activation='relu'))\n",
    "model.add(Dense(32, activation='relu'))\n",
    "model.add(Dense(actions.shape[0], activation='softmax'))"
   ]
  },
  {
   "cell_type": "code",
   "execution_count": 31,
   "metadata": {},
   "outputs": [],
   "source": [
    "model.compile(optimizer='Adam', loss='categorical_crossentropy', metrics=['categorical_accuracy'])"
   ]
  },
  {
   "cell_type": "code",
   "execution_count": 33,
   "metadata": {},
   "outputs": [
    {
     "name": "stdout",
     "output_type": "stream",
     "text": [
      "Epoch 1/200\n",
      "3/3 [==============================] - 1s 143ms/step - loss: 1.0967 - categorical_accuracy: 0.3529\n",
      "Epoch 2/200\n",
      "3/3 [==============================] - 0s 148ms/step - loss: 1.0970 - categorical_accuracy: 0.3529\n",
      "Epoch 3/200\n",
      "3/3 [==============================] - 0s 153ms/step - loss: 1.0959 - categorical_accuracy: 0.3529\n",
      "Epoch 4/200\n",
      "3/3 [==============================] - 0s 160ms/step - loss: 1.0957 - categorical_accuracy: 0.3529\n",
      "Epoch 5/200\n",
      "3/3 [==============================] - 0s 152ms/step - loss: 1.0953 - categorical_accuracy: 0.3529\n",
      "Epoch 6/200\n",
      "3/3 [==============================] - 0s 164ms/step - loss: 1.0955 - categorical_accuracy: 0.3529\n",
      "Epoch 7/200\n",
      "3/3 [==============================] - 0s 120ms/step - loss: 1.0942 - categorical_accuracy: 0.3529\n",
      "Epoch 8/200\n",
      "3/3 [==============================] - 1s 253ms/step - loss: 1.0939 - categorical_accuracy: 0.3529\n",
      "Epoch 9/200\n",
      "3/3 [==============================] - 0s 149ms/step - loss: 1.0922 - categorical_accuracy: 0.3529\n",
      "Epoch 10/200\n",
      "3/3 [==============================] - 0s 163ms/step - loss: 1.0914 - categorical_accuracy: 0.3529\n",
      "Epoch 11/200\n",
      "3/3 [==============================] - 0s 117ms/step - loss: 1.0910 - categorical_accuracy: 0.3529\n",
      "Epoch 12/200\n",
      "3/3 [==============================] - 0s 129ms/step - loss: 1.0858 - categorical_accuracy: 0.3529\n",
      "Epoch 13/200\n",
      "3/3 [==============================] - 0s 129ms/step - loss: 1.0733 - categorical_accuracy: 0.3529\n",
      "Epoch 14/200\n",
      "3/3 [==============================] - 0s 140ms/step - loss: 1.1264 - categorical_accuracy: 0.3529\n",
      "Epoch 15/200\n",
      "3/3 [==============================] - 0s 131ms/step - loss: 1.1011 - categorical_accuracy: 0.3294\n",
      "Epoch 16/200\n",
      "3/3 [==============================] - 0s 129ms/step - loss: 1.1050 - categorical_accuracy: 0.3176\n",
      "Epoch 17/200\n",
      "3/3 [==============================] - 0s 111ms/step - loss: 1.1045 - categorical_accuracy: 0.3176\n",
      "Epoch 18/200\n",
      "3/3 [==============================] - 0s 104ms/step - loss: 1.0983 - categorical_accuracy: 0.3412\n",
      "Epoch 19/200\n",
      "3/3 [==============================] - 0s 117ms/step - loss: 1.0990 - categorical_accuracy: 0.2941\n",
      "Epoch 20/200\n",
      "3/3 [==============================] - 0s 131ms/step - loss: 1.0978 - categorical_accuracy: 0.3294\n",
      "Epoch 21/200\n",
      "3/3 [==============================] - 0s 126ms/step - loss: 1.0999 - categorical_accuracy: 0.3294\n",
      "Epoch 22/200\n",
      "3/3 [==============================] - 0s 116ms/step - loss: 1.0989 - categorical_accuracy: 0.3294\n",
      "Epoch 23/200\n",
      "3/3 [==============================] - 0s 110ms/step - loss: 1.0989 - categorical_accuracy: 0.3294\n",
      "Epoch 24/200\n",
      "3/3 [==============================] - 0s 108ms/step - loss: 1.0977 - categorical_accuracy: 0.3529\n",
      "Epoch 25/200\n",
      "3/3 [==============================] - 0s 118ms/step - loss: 1.0985 - categorical_accuracy: 0.3529\n",
      "Epoch 26/200\n",
      "3/3 [==============================] - 0s 112ms/step - loss: 1.0972 - categorical_accuracy: 0.3529\n",
      "Epoch 27/200\n",
      "3/3 [==============================] - 0s 133ms/step - loss: 1.0974 - categorical_accuracy: 0.3529\n",
      "Epoch 28/200\n",
      "3/3 [==============================] - 0s 106ms/step - loss: 1.0979 - categorical_accuracy: 0.3529\n",
      "Epoch 29/200\n",
      "3/3 [==============================] - 0s 112ms/step - loss: 1.0971 - categorical_accuracy: 0.3529\n",
      "Epoch 30/200\n",
      "3/3 [==============================] - 0s 145ms/step - loss: 1.0971 - categorical_accuracy: 0.3529\n",
      "Epoch 31/200\n",
      "3/3 [==============================] - 0s 108ms/step - loss: 1.0980 - categorical_accuracy: 0.3529\n",
      "Epoch 32/200\n",
      "3/3 [==============================] - 0s 109ms/step - loss: 1.0984 - categorical_accuracy: 0.3529\n",
      "Epoch 33/200\n",
      "3/3 [==============================] - 0s 102ms/step - loss: 1.0970 - categorical_accuracy: 0.3529\n",
      "Epoch 34/200\n",
      "3/3 [==============================] - 0s 120ms/step - loss: 1.0966 - categorical_accuracy: 0.3529\n",
      "Epoch 35/200\n",
      "3/3 [==============================] - 0s 136ms/step - loss: 1.0976 - categorical_accuracy: 0.3529\n",
      "Epoch 36/200\n",
      "3/3 [==============================] - 0s 125ms/step - loss: 1.0964 - categorical_accuracy: 0.3529\n",
      "Epoch 37/200\n",
      "3/3 [==============================] - 0s 118ms/step - loss: 1.0972 - categorical_accuracy: 0.3529\n",
      "Epoch 38/200\n",
      "3/3 [==============================] - 0s 109ms/step - loss: 1.0963 - categorical_accuracy: 0.3529\n",
      "Epoch 39/200\n",
      "3/3 [==============================] - 0s 125ms/step - loss: 1.0958 - categorical_accuracy: 0.3529\n",
      "Epoch 40/200\n",
      "3/3 [==============================] - 0s 133ms/step - loss: 1.0964 - categorical_accuracy: 0.3529\n",
      "Epoch 41/200\n",
      "3/3 [==============================] - 0s 127ms/step - loss: 1.0948 - categorical_accuracy: 0.4118\n",
      "Epoch 42/200\n",
      "3/3 [==============================] - 0s 118ms/step - loss: 1.0970 - categorical_accuracy: 0.3176\n",
      "Epoch 43/200\n",
      "3/3 [==============================] - 0s 107ms/step - loss: 1.0952 - categorical_accuracy: 0.3529\n",
      "Epoch 44/200\n",
      "3/3 [==============================] - 0s 110ms/step - loss: 1.0953 - categorical_accuracy: 0.3529\n",
      "Epoch 45/200\n",
      "3/3 [==============================] - 0s 109ms/step - loss: 1.0933 - categorical_accuracy: 0.3882\n",
      "Epoch 46/200\n",
      "3/3 [==============================] - 0s 102ms/step - loss: 1.0942 - categorical_accuracy: 0.3529\n",
      "Epoch 47/200\n",
      "3/3 [==============================] - 0s 103ms/step - loss: 1.0937 - categorical_accuracy: 0.3176\n",
      "Epoch 48/200\n",
      "3/3 [==============================] - 0s 105ms/step - loss: 1.0923 - categorical_accuracy: 0.3529\n",
      "Epoch 49/200\n",
      "3/3 [==============================] - 0s 128ms/step - loss: 1.0975 - categorical_accuracy: 0.3529\n",
      "Epoch 50/200\n",
      "3/3 [==============================] - 0s 104ms/step - loss: 1.0954 - categorical_accuracy: 0.3529\n",
      "Epoch 51/200\n",
      "3/3 [==============================] - 0s 109ms/step - loss: 1.0942 - categorical_accuracy: 0.3529\n",
      "Epoch 52/200\n",
      "3/3 [==============================] - 0s 97ms/step - loss: 1.0936 - categorical_accuracy: 0.3529\n",
      "Epoch 53/200\n",
      "3/3 [==============================] - 0s 113ms/step - loss: 1.0932 - categorical_accuracy: 0.4000\n",
      "Epoch 54/200\n",
      "3/3 [==============================] - 0s 121ms/step - loss: 1.0986 - categorical_accuracy: 0.3412\n",
      "Epoch 55/200\n",
      "3/3 [==============================] - 0s 145ms/step - loss: 1.0904 - categorical_accuracy: 0.3412\n",
      "Epoch 56/200\n",
      "3/3 [==============================] - 0s 118ms/step - loss: 1.0990 - categorical_accuracy: 0.3529\n",
      "Epoch 57/200\n",
      "3/3 [==============================] - 0s 122ms/step - loss: 1.0981 - categorical_accuracy: 0.3529\n",
      "Epoch 58/200\n",
      "3/3 [==============================] - 0s 113ms/step - loss: 1.0984 - categorical_accuracy: 0.3529\n",
      "Epoch 59/200\n",
      "3/3 [==============================] - 0s 103ms/step - loss: 1.0976 - categorical_accuracy: 0.3529\n",
      "Epoch 60/200\n",
      "3/3 [==============================] - 0s 112ms/step - loss: 1.0969 - categorical_accuracy: 0.3529\n",
      "Epoch 61/200\n",
      "3/3 [==============================] - 0s 117ms/step - loss: 1.0957 - categorical_accuracy: 0.3529\n",
      "Epoch 62/200\n",
      "3/3 [==============================] - 0s 121ms/step - loss: 1.0948 - categorical_accuracy: 0.3529\n",
      "Epoch 63/200\n",
      "3/3 [==============================] - 0s 106ms/step - loss: 1.0938 - categorical_accuracy: 0.4235\n",
      "Epoch 64/200\n",
      "3/3 [==============================] - 0s 110ms/step - loss: 1.0935 - categorical_accuracy: 0.4824\n",
      "Epoch 65/200\n",
      "3/3 [==============================] - 0s 111ms/step - loss: 1.0933 - categorical_accuracy: 0.4118\n",
      "Epoch 66/200\n",
      "3/3 [==============================] - 0s 107ms/step - loss: 1.0949 - categorical_accuracy: 0.3647\n",
      "Epoch 67/200\n",
      "3/3 [==============================] - 0s 146ms/step - loss: 1.0913 - categorical_accuracy: 0.3647\n",
      "Epoch 68/200\n",
      "3/3 [==============================] - 0s 125ms/step - loss: 1.0904 - categorical_accuracy: 0.3765\n",
      "Epoch 69/200\n",
      "3/3 [==============================] - 0s 136ms/step - loss: 1.0883 - categorical_accuracy: 0.4941\n",
      "Epoch 70/200\n",
      "3/3 [==============================] - 0s 114ms/step - loss: 1.0871 - categorical_accuracy: 0.4353\n",
      "Epoch 71/200\n",
      "3/3 [==============================] - 0s 119ms/step - loss: 1.0872 - categorical_accuracy: 0.3294\n",
      "Epoch 72/200\n",
      "3/3 [==============================] - 0s 122ms/step - loss: 1.0832 - categorical_accuracy: 0.3294\n",
      "Epoch 73/200\n",
      "3/3 [==============================] - 0s 121ms/step - loss: 1.0834 - categorical_accuracy: 0.4588\n",
      "Epoch 74/200\n",
      "3/3 [==============================] - 0s 130ms/step - loss: 1.0860 - categorical_accuracy: 0.3529\n",
      "Epoch 75/200\n",
      "3/3 [==============================] - 0s 116ms/step - loss: 1.0723 - categorical_accuracy: 0.3765\n",
      "Epoch 76/200\n",
      "3/3 [==============================] - 0s 101ms/step - loss: 1.0814 - categorical_accuracy: 0.3882\n",
      "Epoch 77/200\n",
      "3/3 [==============================] - 0s 107ms/step - loss: 1.0883 - categorical_accuracy: 0.3882\n",
      "Epoch 78/200\n",
      "3/3 [==============================] - 0s 126ms/step - loss: 1.0768 - categorical_accuracy: 0.4706\n",
      "Epoch 79/200\n",
      "3/3 [==============================] - 0s 118ms/step - loss: 1.0811 - categorical_accuracy: 0.4000\n",
      "Epoch 80/200\n",
      "3/3 [==============================] - 0s 114ms/step - loss: 1.1017 - categorical_accuracy: 0.3176\n",
      "Epoch 81/200\n",
      "3/3 [==============================] - 0s 121ms/step - loss: 1.1069 - categorical_accuracy: 0.3294\n",
      "Epoch 82/200\n",
      "3/3 [==============================] - 0s 99ms/step - loss: 1.1145 - categorical_accuracy: 0.3294\n",
      "Epoch 83/200\n",
      "3/3 [==============================] - 0s 105ms/step - loss: 1.0920 - categorical_accuracy: 0.3765\n",
      "Epoch 84/200\n",
      "3/3 [==============================] - 0s 108ms/step - loss: 1.1010 - categorical_accuracy: 0.3529\n",
      "Epoch 85/200\n",
      "3/3 [==============================] - 0s 106ms/step - loss: 1.0921 - categorical_accuracy: 0.3529\n",
      "Epoch 86/200\n",
      "3/3 [==============================] - 0s 131ms/step - loss: 1.0873 - categorical_accuracy: 0.3765\n",
      "Epoch 87/200\n",
      "3/3 [==============================] - 0s 115ms/step - loss: 1.0881 - categorical_accuracy: 0.3647\n",
      "Epoch 88/200\n",
      "3/3 [==============================] - 0s 122ms/step - loss: 1.0832 - categorical_accuracy: 0.3765\n",
      "Epoch 89/200\n",
      "3/3 [==============================] - 0s 145ms/step - loss: 1.0742 - categorical_accuracy: 0.4588\n",
      "Epoch 90/200\n",
      "3/3 [==============================] - 0s 118ms/step - loss: 1.0707 - categorical_accuracy: 0.3765\n",
      "Epoch 91/200\n",
      "3/3 [==============================] - 0s 135ms/step - loss: 1.0543 - categorical_accuracy: 0.3765\n",
      "Epoch 92/200\n",
      "3/3 [==============================] - 0s 101ms/step - loss: 1.0140 - categorical_accuracy: 0.4235\n",
      "Epoch 93/200\n",
      "3/3 [==============================] - 0s 114ms/step - loss: 1.0125 - categorical_accuracy: 0.4000\n",
      "Epoch 94/200\n",
      "3/3 [==============================] - 0s 100ms/step - loss: 0.9658 - categorical_accuracy: 0.5294\n",
      "Epoch 95/200\n",
      "3/3 [==============================] - 0s 97ms/step - loss: 1.4541 - categorical_accuracy: 0.4235\n",
      "Epoch 96/200\n",
      "3/3 [==============================] - 0s 149ms/step - loss: 1.1127 - categorical_accuracy: 0.3529\n",
      "Epoch 97/200\n",
      "3/3 [==============================] - 0s 117ms/step - loss: 1.0816 - categorical_accuracy: 0.4118\n",
      "Epoch 98/200\n",
      "3/3 [==============================] - 0s 102ms/step - loss: 1.1014 - categorical_accuracy: 0.3882\n",
      "Epoch 99/200\n",
      "3/3 [==============================] - 0s 100ms/step - loss: 1.1068 - categorical_accuracy: 0.3176\n",
      "Epoch 100/200\n",
      "3/3 [==============================] - 0s 104ms/step - loss: 1.1016 - categorical_accuracy: 0.3176\n",
      "Epoch 101/200\n",
      "3/3 [==============================] - 0s 103ms/step - loss: 1.1002 - categorical_accuracy: 0.3294\n",
      "Epoch 102/200\n",
      "3/3 [==============================] - 0s 118ms/step - loss: 1.0971 - categorical_accuracy: 0.3294\n",
      "Epoch 103/200\n",
      "3/3 [==============================] - 0s 118ms/step - loss: 1.0780 - categorical_accuracy: 0.4235\n",
      "Epoch 104/200\n",
      "3/3 [==============================] - 0s 99ms/step - loss: 1.1282 - categorical_accuracy: 0.4000\n",
      "Epoch 105/200\n",
      "3/3 [==============================] - 0s 115ms/step - loss: 1.1003 - categorical_accuracy: 0.3294\n",
      "Epoch 106/200\n",
      "3/3 [==============================] - 0s 113ms/step - loss: 1.1000 - categorical_accuracy: 0.3529\n",
      "Epoch 107/200\n",
      "3/3 [==============================] - 0s 102ms/step - loss: 1.1004 - categorical_accuracy: 0.3529\n",
      "Epoch 108/200\n",
      "3/3 [==============================] - 0s 102ms/step - loss: 1.1003 - categorical_accuracy: 0.3529\n",
      "Epoch 109/200\n",
      "3/3 [==============================] - 0s 103ms/step - loss: 1.1001 - categorical_accuracy: 0.3529\n",
      "Epoch 110/200\n",
      "3/3 [==============================] - 0s 111ms/step - loss: 1.0998 - categorical_accuracy: 0.3529\n",
      "Epoch 111/200\n",
      "3/3 [==============================] - 0s 103ms/step - loss: 1.0996 - categorical_accuracy: 0.3529\n",
      "Epoch 112/200\n",
      "3/3 [==============================] - 0s 115ms/step - loss: 1.0996 - categorical_accuracy: 0.3529\n",
      "Epoch 113/200\n",
      "3/3 [==============================] - 0s 107ms/step - loss: 1.0993 - categorical_accuracy: 0.3529\n",
      "Epoch 114/200\n",
      "3/3 [==============================] - 0s 119ms/step - loss: 1.0990 - categorical_accuracy: 0.3529\n",
      "Epoch 115/200\n",
      "3/3 [==============================] - 0s 107ms/step - loss: 1.0989 - categorical_accuracy: 0.3529\n",
      "Epoch 116/200\n",
      "3/3 [==============================] - 0s 122ms/step - loss: 1.0987 - categorical_accuracy: 0.3529\n",
      "Epoch 117/200\n",
      "3/3 [==============================] - 0s 127ms/step - loss: 1.0989 - categorical_accuracy: 0.3529\n",
      "Epoch 118/200\n",
      "3/3 [==============================] - 0s 134ms/step - loss: 1.0985 - categorical_accuracy: 0.3529\n",
      "Epoch 119/200\n",
      "3/3 [==============================] - 0s 116ms/step - loss: 1.0984 - categorical_accuracy: 0.3529\n",
      "Epoch 120/200\n",
      "3/3 [==============================] - 0s 115ms/step - loss: 1.0984 - categorical_accuracy: 0.3529\n",
      "Epoch 121/200\n",
      "3/3 [==============================] - 0s 124ms/step - loss: 1.0983 - categorical_accuracy: 0.3529\n",
      "Epoch 122/200\n",
      "3/3 [==============================] - 0s 127ms/step - loss: 1.0982 - categorical_accuracy: 0.3529\n",
      "Epoch 123/200\n",
      "3/3 [==============================] - 0s 109ms/step - loss: 1.0982 - categorical_accuracy: 0.3529\n",
      "Epoch 124/200\n",
      "3/3 [==============================] - 0s 110ms/step - loss: 1.0981 - categorical_accuracy: 0.3529\n",
      "Epoch 125/200\n",
      "3/3 [==============================] - 0s 101ms/step - loss: 1.0981 - categorical_accuracy: 0.3529\n",
      "Epoch 126/200\n",
      "3/3 [==============================] - 0s 104ms/step - loss: 1.0980 - categorical_accuracy: 0.3529\n",
      "Epoch 127/200\n",
      "3/3 [==============================] - 0s 114ms/step - loss: 1.0980 - categorical_accuracy: 0.3529\n",
      "Epoch 128/200\n",
      "3/3 [==============================] - 0s 178ms/step - loss: 1.0980 - categorical_accuracy: 0.3529\n",
      "Epoch 129/200\n",
      "3/3 [==============================] - 0s 118ms/step - loss: 1.0980 - categorical_accuracy: 0.3529\n",
      "Epoch 130/200\n",
      "3/3 [==============================] - 0s 101ms/step - loss: 1.0979 - categorical_accuracy: 0.3529\n",
      "Epoch 131/200\n",
      "3/3 [==============================] - 0s 120ms/step - loss: 1.0978 - categorical_accuracy: 0.3529\n",
      "Epoch 132/200\n",
      "3/3 [==============================] - 0s 124ms/step - loss: 1.0979 - categorical_accuracy: 0.3529\n",
      "Epoch 133/200\n",
      "3/3 [==============================] - 0s 104ms/step - loss: 1.0977 - categorical_accuracy: 0.3529\n",
      "Epoch 134/200\n",
      "3/3 [==============================] - 0s 115ms/step - loss: 1.0978 - categorical_accuracy: 0.3529\n",
      "Epoch 135/200\n",
      "3/3 [==============================] - 0s 116ms/step - loss: 1.0977 - categorical_accuracy: 0.3529\n",
      "Epoch 136/200\n",
      "3/3 [==============================] - 0s 109ms/step - loss: 1.0976 - categorical_accuracy: 0.3529\n",
      "Epoch 137/200\n",
      "3/3 [==============================] - 0s 130ms/step - loss: 1.0975 - categorical_accuracy: 0.3529\n",
      "Epoch 138/200\n",
      "3/3 [==============================] - 0s 122ms/step - loss: 1.0976 - categorical_accuracy: 0.3529\n",
      "Epoch 139/200\n",
      "3/3 [==============================] - 0s 111ms/step - loss: 1.0974 - categorical_accuracy: 0.3529\n",
      "Epoch 140/200\n",
      "3/3 [==============================] - 0s 141ms/step - loss: 1.0973 - categorical_accuracy: 0.3529\n",
      "Epoch 141/200\n",
      "3/3 [==============================] - 0s 106ms/step - loss: 1.0972 - categorical_accuracy: 0.3529\n",
      "Epoch 142/200\n",
      "3/3 [==============================] - 0s 103ms/step - loss: 1.0971 - categorical_accuracy: 0.3529\n",
      "Epoch 143/200\n",
      "3/3 [==============================] - 0s 105ms/step - loss: 1.0970 - categorical_accuracy: 0.3529\n",
      "Epoch 144/200\n",
      "3/3 [==============================] - 0s 93ms/step - loss: 1.0971 - categorical_accuracy: 0.3529\n",
      "Epoch 145/200\n",
      "3/3 [==============================] - 0s 110ms/step - loss: 1.0967 - categorical_accuracy: 0.3529\n",
      "Epoch 146/200\n",
      "3/3 [==============================] - 0s 116ms/step - loss: 1.0967 - categorical_accuracy: 0.3529\n",
      "Epoch 147/200\n",
      "3/3 [==============================] - 0s 120ms/step - loss: 1.0967 - categorical_accuracy: 0.3529\n",
      "Epoch 148/200\n",
      "3/3 [==============================] - 0s 102ms/step - loss: 1.0962 - categorical_accuracy: 0.3529\n",
      "Epoch 149/200\n",
      "3/3 [==============================] - 0s 104ms/step - loss: 1.0962 - categorical_accuracy: 0.3529\n",
      "Epoch 150/200\n",
      "3/3 [==============================] - 0s 109ms/step - loss: 1.0957 - categorical_accuracy: 0.3529\n",
      "Epoch 151/200\n",
      "3/3 [==============================] - 0s 92ms/step - loss: 1.0958 - categorical_accuracy: 0.3529\n",
      "Epoch 152/200\n",
      "3/3 [==============================] - 0s 125ms/step - loss: 1.0958 - categorical_accuracy: 0.3647\n",
      "Epoch 153/200\n",
      "3/3 [==============================] - 0s 114ms/step - loss: 1.0947 - categorical_accuracy: 0.3647\n",
      "Epoch 154/200\n",
      "3/3 [==============================] - 0s 176ms/step - loss: 1.0843 - categorical_accuracy: 0.4000\n",
      "Epoch 155/200\n",
      "3/3 [==============================] - 0s 110ms/step - loss: 1.0983 - categorical_accuracy: 0.3529\n",
      "Epoch 156/200\n",
      "3/3 [==============================] - 0s 110ms/step - loss: 1.0982 - categorical_accuracy: 0.3529\n",
      "Epoch 157/200\n",
      "3/3 [==============================] - 0s 123ms/step - loss: 1.0989 - categorical_accuracy: 0.3529\n",
      "Epoch 158/200\n",
      "3/3 [==============================] - 0s 92ms/step - loss: 1.0985 - categorical_accuracy: 0.3529\n",
      "Epoch 159/200\n",
      "3/3 [==============================] - 0s 110ms/step - loss: 1.0985 - categorical_accuracy: 0.3529\n",
      "Epoch 160/200\n",
      "3/3 [==============================] - 0s 110ms/step - loss: 1.0983 - categorical_accuracy: 0.3529\n",
      "Epoch 161/200\n",
      "3/3 [==============================] - 0s 109ms/step - loss: 1.0982 - categorical_accuracy: 0.3529\n",
      "Epoch 162/200\n",
      "3/3 [==============================] - 0s 102ms/step - loss: 1.0982 - categorical_accuracy: 0.3529\n",
      "Epoch 163/200\n",
      "3/3 [==============================] - 0s 107ms/step - loss: 1.0982 - categorical_accuracy: 0.3529\n",
      "Epoch 164/200\n",
      "3/3 [==============================] - 0s 102ms/step - loss: 1.0980 - categorical_accuracy: 0.3529\n",
      "Epoch 165/200\n",
      "3/3 [==============================] - 0s 114ms/step - loss: 1.0980 - categorical_accuracy: 0.3529\n",
      "Epoch 166/200\n",
      "3/3 [==============================] - 0s 148ms/step - loss: 1.0981 - categorical_accuracy: 0.3529\n",
      "Epoch 167/200\n",
      "3/3 [==============================] - 0s 85ms/step - loss: 1.0980 - categorical_accuracy: 0.3529\n",
      "Epoch 168/200\n",
      "3/3 [==============================] - 0s 111ms/step - loss: 1.0978 - categorical_accuracy: 0.3529\n",
      "Epoch 169/200\n",
      "3/3 [==============================] - 0s 113ms/step - loss: 1.0980 - categorical_accuracy: 0.3529\n",
      "Epoch 170/200\n",
      "3/3 [==============================] - 0s 102ms/step - loss: 1.0985 - categorical_accuracy: 0.3529\n",
      "Epoch 171/200\n",
      "3/3 [==============================] - 0s 101ms/step - loss: 1.0979 - categorical_accuracy: 0.3529\n",
      "Epoch 172/200\n",
      "3/3 [==============================] - 0s 155ms/step - loss: 1.0979 - categorical_accuracy: 0.3529\n",
      "Epoch 173/200\n",
      "3/3 [==============================] - 0s 98ms/step - loss: 1.0977 - categorical_accuracy: 0.3529\n",
      "Epoch 174/200\n",
      "3/3 [==============================] - 0s 109ms/step - loss: 1.0978 - categorical_accuracy: 0.3529\n",
      "Epoch 175/200\n",
      "3/3 [==============================] - 0s 102ms/step - loss: 1.0977 - categorical_accuracy: 0.3529\n",
      "Epoch 176/200\n",
      "3/3 [==============================] - 0s 115ms/step - loss: 1.0978 - categorical_accuracy: 0.3529\n",
      "Epoch 177/200\n",
      "3/3 [==============================] - 0s 96ms/step - loss: 1.0978 - categorical_accuracy: 0.3529\n",
      "Epoch 178/200\n",
      "3/3 [==============================] - 0s 122ms/step - loss: 1.0978 - categorical_accuracy: 0.3529\n",
      "Epoch 179/200\n",
      "3/3 [==============================] - 0s 107ms/step - loss: 1.0978 - categorical_accuracy: 0.3529\n",
      "Epoch 180/200\n",
      "3/3 [==============================] - 0s 106ms/step - loss: 1.0977 - categorical_accuracy: 0.3529\n",
      "Epoch 181/200\n",
      "3/3 [==============================] - 0s 110ms/step - loss: 1.0978 - categorical_accuracy: 0.3529\n",
      "Epoch 182/200\n",
      "3/3 [==============================] - 0s 107ms/step - loss: 1.0978 - categorical_accuracy: 0.3529\n",
      "Epoch 183/200\n",
      "3/3 [==============================] - 0s 108ms/step - loss: 1.0976 - categorical_accuracy: 0.3529\n",
      "Epoch 184/200\n",
      "3/3 [==============================] - 0s 113ms/step - loss: 1.0977 - categorical_accuracy: 0.3529\n",
      "Epoch 185/200\n",
      "3/3 [==============================] - 0s 111ms/step - loss: 1.0979 - categorical_accuracy: 0.3529\n",
      "Epoch 186/200\n",
      "3/3 [==============================] - 0s 95ms/step - loss: 1.0976 - categorical_accuracy: 0.3529\n",
      "Epoch 187/200\n",
      "3/3 [==============================] - 0s 104ms/step - loss: 1.0978 - categorical_accuracy: 0.3529\n",
      "Epoch 188/200\n",
      "3/3 [==============================] - 0s 118ms/step - loss: 1.0978 - categorical_accuracy: 0.3529\n",
      "Epoch 189/200\n",
      "3/3 [==============================] - 0s 104ms/step - loss: 1.0975 - categorical_accuracy: 0.3529\n",
      "Epoch 190/200\n",
      "3/3 [==============================] - 0s 105ms/step - loss: 1.0977 - categorical_accuracy: 0.3529\n",
      "Epoch 191/200\n",
      "3/3 [==============================] - 0s 105ms/step - loss: 1.0978 - categorical_accuracy: 0.3529\n",
      "Epoch 192/200\n",
      "3/3 [==============================] - 0s 106ms/step - loss: 1.0976 - categorical_accuracy: 0.3529\n",
      "Epoch 193/200\n",
      "3/3 [==============================] - 0s 106ms/step - loss: 1.0975 - categorical_accuracy: 0.3529\n",
      "Epoch 194/200\n",
      "3/3 [==============================] - 0s 100ms/step - loss: 1.0976 - categorical_accuracy: 0.3529\n",
      "Epoch 195/200\n",
      "3/3 [==============================] - 0s 103ms/step - loss: 1.0975 - categorical_accuracy: 0.3529\n",
      "Epoch 196/200\n",
      "3/3 [==============================] - 0s 103ms/step - loss: 1.0974 - categorical_accuracy: 0.3529\n",
      "Epoch 197/200\n",
      "3/3 [==============================] - 0s 119ms/step - loss: 1.0980 - categorical_accuracy: 0.3529\n",
      "Epoch 198/200\n",
      "3/3 [==============================] - 0s 111ms/step - loss: 1.0970 - categorical_accuracy: 0.3529\n",
      "Epoch 199/200\n",
      "3/3 [==============================] - 0s 105ms/step - loss: 1.0970 - categorical_accuracy: 0.3529\n",
      "Epoch 200/200\n",
      "3/3 [==============================] - 0s 111ms/step - loss: 1.0970 - categorical_accuracy: 0.3529\n"
     ]
    },
    {
     "data": {
      "text/plain": [
       "<keras.callbacks.History at 0x23cb1e625c0>"
      ]
     },
     "execution_count": 33,
     "metadata": {},
     "output_type": "execute_result"
    }
   ],
   "source": [
    "model.fit(X_train, y_train, epochs=200, callbacks=[tb_callback])"
   ]
  },
  {
   "cell_type": "markdown",
   "metadata": {},
   "source": [
    "### Make Predictions"
   ]
  },
  {
   "cell_type": "code",
   "execution_count": 34,
   "metadata": {},
   "outputs": [
    {
     "name": "stdout",
     "output_type": "stream",
     "text": [
      "1/1 [==============================] - 1s 541ms/step\n"
     ]
    }
   ],
   "source": [
    "res = model.predict(X_test)"
   ]
  },
  {
   "cell_type": "code",
   "execution_count": 35,
   "metadata": {},
   "outputs": [
    {
     "data": {
      "text/plain": [
       "'paper'"
      ]
     },
     "execution_count": 35,
     "metadata": {},
     "output_type": "execute_result"
    }
   ],
   "source": [
    "actions[np.argmax(res[1])]"
   ]
  },
  {
   "cell_type": "markdown",
   "metadata": {},
   "source": [
    "### Save Weights"
   ]
  },
  {
   "cell_type": "code",
   "execution_count": 36,
   "metadata": {},
   "outputs": [],
   "source": [
    "model.save('action.h5')\n",
    "# del model\n",
    "# model.load_weights('action.h5')"
   ]
  },
  {
   "cell_type": "markdown",
   "metadata": {},
   "source": [
    "### Evaluation using Confusion Matrix and Accuracy"
   ]
  },
  {
   "cell_type": "code",
   "execution_count": 37,
   "metadata": {},
   "outputs": [],
   "source": [
    "from sklearn.metrics import multilabel_confusion_matrix, accuracy_score"
   ]
  },
  {
   "cell_type": "code",
   "execution_count": 38,
   "metadata": {},
   "outputs": [
    {
     "name": "stdout",
     "output_type": "stream",
     "text": [
      "1/1 [==============================] - 0s 37ms/step\n"
     ]
    }
   ],
   "source": [
    "yhat = model.predict(X_test)"
   ]
  },
  {
   "cell_type": "code",
   "execution_count": 39,
   "metadata": {},
   "outputs": [],
   "source": [
    "ytrue = np.argmax(y_test, axis=1).tolist()\n",
    "yhat = np.argmax(yhat, axis=1).tolist()"
   ]
  },
  {
   "cell_type": "code",
   "execution_count": 40,
   "metadata": {},
   "outputs": [
    {
     "data": {
      "text/plain": [
       "array([[[2., 0.],\n",
       "        [3., 0.]],\n",
       "\n",
       "       [[0., 5.],\n",
       "        [0., 0.]],\n",
       "\n",
       "       [[3., 0.],\n",
       "        [2., 0.]]])"
      ]
     },
     "execution_count": 40,
     "metadata": {},
     "output_type": "execute_result"
    }
   ],
   "source": [
    "multilabel_confusion_matrix(ytrue, yhat)"
   ]
  },
  {
   "cell_type": "code",
   "execution_count": 41,
   "metadata": {},
   "outputs": [
    {
     "data": {
      "text/plain": [
       "0.0"
      ]
     },
     "execution_count": 41,
     "metadata": {},
     "output_type": "execute_result"
    }
   ],
   "source": [
    "accuracy_score(ytrue, yhat)"
   ]
  },
  {
   "cell_type": "markdown",
   "metadata": {},
   "source": [
    "### Test in Real Time"
   ]
  },
  {
   "cell_type": "code",
   "execution_count": 42,
   "metadata": {},
   "outputs": [],
   "source": [
    "colors = [(245,117,16), (117,245,16), (16,117,245)]\n",
    "def prob_viz(res, actions, input_frame, colors):\n",
    "    output_frame = input_frame.copy()\n",
    "    for num, prob in enumerate(res):\n",
    "        cv2.rectangle(output_frame, (0,60+num*40), (int(prob*100), 90+num*40), colors[num], -1)\n",
    "        cv2.putText(output_frame, actions[num], (0, 85+num*40), cv2.FONT_HERSHEY_SIMPLEX, 1, (255,255,255), 2, cv2.LINE_AA)\n",
    "        \n",
    "    return output_frame"
   ]
  },
  {
   "cell_type": "code",
   "execution_count": 109,
   "metadata": {},
   "outputs": [
    {
     "ename": "TypeError",
     "evalue": "only size-1 arrays can be converted to Python scalars",
     "output_type": "error",
     "traceback": [
      "\u001b[1;31m---------------------------------------------------------------------------\u001b[0m",
      "\u001b[1;31mTypeError\u001b[0m                                 Traceback (most recent call last)",
      "\u001b[1;32mc:\\Users\\Asus\\PycharmProjects\\TensorFlow\\movement-estimation.ipynb Cell 54\u001b[0m in \u001b[0;36m<cell line: 2>\u001b[1;34m()\u001b[0m\n\u001b[0;32m      <a href='vscode-notebook-cell:/c%3A/Users/Asus/PycharmProjects/TensorFlow/movement-estimation.ipynb#Y105sZmlsZQ%3D%3D?line=0'>1</a>\u001b[0m plt\u001b[39m.\u001b[39mfigure(figsize\u001b[39m=\u001b[39m(\u001b[39m18\u001b[39m,\u001b[39m18\u001b[39m))\n\u001b[1;32m----> <a href='vscode-notebook-cell:/c%3A/Users/Asus/PycharmProjects/TensorFlow/movement-estimation.ipynb#Y105sZmlsZQ%3D%3D?line=1'>2</a>\u001b[0m plt\u001b[39m.\u001b[39mimshow(prob_viz(res, actions, image, colors))\n",
      "\u001b[1;32mc:\\Users\\Asus\\PycharmProjects\\TensorFlow\\movement-estimation.ipynb Cell 54\u001b[0m in \u001b[0;36mprob_viz\u001b[1;34m(res, actions, input_frame, colors)\u001b[0m\n\u001b[0;32m      <a href='vscode-notebook-cell:/c%3A/Users/Asus/PycharmProjects/TensorFlow/movement-estimation.ipynb#Y105sZmlsZQ%3D%3D?line=2'>3</a>\u001b[0m output_frame \u001b[39m=\u001b[39m input_frame\u001b[39m.\u001b[39mcopy()\n\u001b[0;32m      <a href='vscode-notebook-cell:/c%3A/Users/Asus/PycharmProjects/TensorFlow/movement-estimation.ipynb#Y105sZmlsZQ%3D%3D?line=3'>4</a>\u001b[0m \u001b[39mfor\u001b[39;00m num, prob \u001b[39min\u001b[39;00m \u001b[39menumerate\u001b[39m(res):\n\u001b[1;32m----> <a href='vscode-notebook-cell:/c%3A/Users/Asus/PycharmProjects/TensorFlow/movement-estimation.ipynb#Y105sZmlsZQ%3D%3D?line=4'>5</a>\u001b[0m     cv2\u001b[39m.\u001b[39mrectangle(output_frame, (\u001b[39m0\u001b[39m,\u001b[39m60\u001b[39m\u001b[39m+\u001b[39mnum\u001b[39m*\u001b[39m\u001b[39m40\u001b[39m), (\u001b[39mint\u001b[39;49m(prob\u001b[39m*\u001b[39;49m\u001b[39m100\u001b[39;49m), \u001b[39m90\u001b[39m\u001b[39m+\u001b[39mnum\u001b[39m*\u001b[39m\u001b[39m40\u001b[39m), colors[num], \u001b[39m-\u001b[39m\u001b[39m1\u001b[39m)\n\u001b[0;32m      <a href='vscode-notebook-cell:/c%3A/Users/Asus/PycharmProjects/TensorFlow/movement-estimation.ipynb#Y105sZmlsZQ%3D%3D?line=5'>6</a>\u001b[0m     cv2\u001b[39m.\u001b[39mputText(output_frame, actions[num], (\u001b[39m0\u001b[39m, \u001b[39m85\u001b[39m\u001b[39m+\u001b[39mnum\u001b[39m*\u001b[39m\u001b[39m40\u001b[39m), cv2\u001b[39m.\u001b[39mFONT_HERSHEY_SIMPLEX, \u001b[39m1\u001b[39m, (\u001b[39m255\u001b[39m,\u001b[39m255\u001b[39m,\u001b[39m255\u001b[39m), \u001b[39m2\u001b[39m, cv2\u001b[39m.\u001b[39mLINE_AA)\n\u001b[0;32m      <a href='vscode-notebook-cell:/c%3A/Users/Asus/PycharmProjects/TensorFlow/movement-estimation.ipynb#Y105sZmlsZQ%3D%3D?line=7'>8</a>\u001b[0m \u001b[39mreturn\u001b[39;00m output_frame\n",
      "\u001b[1;31mTypeError\u001b[0m: only size-1 arrays can be converted to Python scalars"
     ]
    },
    {
     "data": {
      "text/plain": [
       "<Figure size 1296x1296 with 0 Axes>"
      ]
     },
     "metadata": {},
     "output_type": "display_data"
    }
   ],
   "source": [
    "plt.figure(figsize=(18,18))\n",
    "plt.imshow(prob_viz(res, actions, image, colors))"
   ]
  },
  {
   "cell_type": "code",
   "execution_count": 43,
   "metadata": {},
   "outputs": [
    {
     "ename": "AttributeError",
     "evalue": "'int' object has no attribute 'reverse'",
     "output_type": "error",
     "traceback": [
      "\u001b[1;31m---------------------------------------------------------------------------\u001b[0m",
      "\u001b[1;31mAttributeError\u001b[0m                            Traceback (most recent call last)",
      "\u001b[1;32mc:\\Users\\Asus\\PycharmProjects\\TensorFlow\\movement-estimation.ipynb Cell 55\u001b[0m in \u001b[0;36m<cell line: 1>\u001b[1;34m()\u001b[0m\n\u001b[1;32m----> <a href='vscode-notebook-cell:/c%3A/Users/Asus/PycharmProjects/TensorFlow/movement-estimation.ipynb#Y105sZmlsZQ%3D%3D?line=0'>1</a>\u001b[0m sequence\u001b[39m.\u001b[39;49mreverse()\n\u001b[0;32m      <a href='vscode-notebook-cell:/c%3A/Users/Asus/PycharmProjects/TensorFlow/movement-estimation.ipynb#Y105sZmlsZQ%3D%3D?line=1'>2</a>\u001b[0m \u001b[39mlen\u001b[39m(sequence)\n",
      "\u001b[1;31mAttributeError\u001b[0m: 'int' object has no attribute 'reverse'"
     ]
    }
   ],
   "source": [
    "sequence.reverse()\n",
    "len(sequence)"
   ]
  },
  {
   "cell_type": "code",
   "execution_count": null,
   "metadata": {},
   "outputs": [],
   "source": [
    "sequence.append('def')\n",
    "sequence.reverse()\n",
    "sequence[-30]"
   ]
  },
  {
   "cell_type": "code",
   "execution_count": 43,
   "metadata": {},
   "outputs": [
    {
     "name": "stdout",
     "output_type": "stream",
     "text": [
      "<class 'mediapipe.python.solution_base.SolutionOutputs'>\n",
      "<class 'mediapipe.python.solution_base.SolutionOutputs'>\n",
      "<class 'mediapipe.python.solution_base.SolutionOutputs'>\n",
      "<class 'mediapipe.python.solution_base.SolutionOutputs'>\n",
      "<class 'mediapipe.python.solution_base.SolutionOutputs'>\n",
      "<class 'mediapipe.python.solution_base.SolutionOutputs'>\n",
      "<class 'mediapipe.python.solution_base.SolutionOutputs'>\n",
      "<class 'mediapipe.python.solution_base.SolutionOutputs'>\n",
      "<class 'mediapipe.python.solution_base.SolutionOutputs'>\n",
      "<class 'mediapipe.python.solution_base.SolutionOutputs'>\n",
      "<class 'mediapipe.python.solution_base.SolutionOutputs'>\n",
      "<class 'mediapipe.python.solution_base.SolutionOutputs'>\n",
      "<class 'mediapipe.python.solution_base.SolutionOutputs'>\n",
      "<class 'mediapipe.python.solution_base.SolutionOutputs'>\n",
      "<class 'mediapipe.python.solution_base.SolutionOutputs'>\n",
      "<class 'mediapipe.python.solution_base.SolutionOutputs'>\n",
      "<class 'mediapipe.python.solution_base.SolutionOutputs'>\n",
      "<class 'mediapipe.python.solution_base.SolutionOutputs'>\n",
      "<class 'mediapipe.python.solution_base.SolutionOutputs'>\n",
      "<class 'mediapipe.python.solution_base.SolutionOutputs'>\n",
      "<class 'mediapipe.python.solution_base.SolutionOutputs'>\n",
      "<class 'mediapipe.python.solution_base.SolutionOutputs'>\n",
      "<class 'mediapipe.python.solution_base.SolutionOutputs'>\n",
      "<class 'mediapipe.python.solution_base.SolutionOutputs'>\n",
      "<class 'mediapipe.python.solution_base.SolutionOutputs'>\n",
      "<class 'mediapipe.python.solution_base.SolutionOutputs'>\n",
      "<class 'mediapipe.python.solution_base.SolutionOutputs'>\n",
      "<class 'mediapipe.python.solution_base.SolutionOutputs'>\n",
      "<class 'mediapipe.python.solution_base.SolutionOutputs'>\n",
      "<class 'mediapipe.python.solution_base.SolutionOutputs'>\n",
      "1/1 [==============================] - 0s 28ms/step\n",
      "paper\n",
      "<class 'mediapipe.python.solution_base.SolutionOutputs'>\n",
      "1/1 [==============================] - 0s 23ms/step\n",
      "paper\n",
      "<class 'mediapipe.python.solution_base.SolutionOutputs'>\n",
      "1/1 [==============================] - 0s 23ms/step\n",
      "paper\n",
      "<class 'mediapipe.python.solution_base.SolutionOutputs'>\n",
      "1/1 [==============================] - 0s 22ms/step\n",
      "paper\n",
      "<class 'mediapipe.python.solution_base.SolutionOutputs'>\n",
      "1/1 [==============================] - 0s 26ms/step\n",
      "paper\n",
      "<class 'mediapipe.python.solution_base.SolutionOutputs'>\n",
      "1/1 [==============================] - 0s 24ms/step\n",
      "paper\n",
      "<class 'mediapipe.python.solution_base.SolutionOutputs'>\n",
      "1/1 [==============================] - 0s 25ms/step\n",
      "paper\n",
      "<class 'mediapipe.python.solution_base.SolutionOutputs'>\n",
      "1/1 [==============================] - 0s 29ms/step\n",
      "paper\n",
      "<class 'mediapipe.python.solution_base.SolutionOutputs'>\n",
      "1/1 [==============================] - 0s 23ms/step\n",
      "paper\n",
      "<class 'mediapipe.python.solution_base.SolutionOutputs'>\n",
      "1/1 [==============================] - 0s 28ms/step\n",
      "paper\n",
      "<class 'mediapipe.python.solution_base.SolutionOutputs'>\n",
      "1/1 [==============================] - 0s 25ms/step\n",
      "paper\n",
      "<class 'mediapipe.python.solution_base.SolutionOutputs'>\n",
      "1/1 [==============================] - 0s 24ms/step\n",
      "paper\n",
      "<class 'mediapipe.python.solution_base.SolutionOutputs'>\n",
      "1/1 [==============================] - 0s 25ms/step\n",
      "paper\n",
      "<class 'mediapipe.python.solution_base.SolutionOutputs'>\n",
      "1/1 [==============================] - 0s 32ms/step\n",
      "paper\n",
      "<class 'mediapipe.python.solution_base.SolutionOutputs'>\n",
      "1/1 [==============================] - 0s 27ms/step\n",
      "paper\n",
      "<class 'mediapipe.python.solution_base.SolutionOutputs'>\n",
      "1/1 [==============================] - 0s 22ms/step\n",
      "paper\n",
      "<class 'mediapipe.python.solution_base.SolutionOutputs'>\n",
      "1/1 [==============================] - 0s 23ms/step\n",
      "paper\n",
      "<class 'mediapipe.python.solution_base.SolutionOutputs'>\n",
      "1/1 [==============================] - 0s 22ms/step\n",
      "paper\n",
      "<class 'mediapipe.python.solution_base.SolutionOutputs'>\n",
      "1/1 [==============================] - 0s 26ms/step\n",
      "paper\n",
      "<class 'mediapipe.python.solution_base.SolutionOutputs'>\n",
      "1/1 [==============================] - 0s 23ms/step\n",
      "paper\n",
      "<class 'mediapipe.python.solution_base.SolutionOutputs'>\n",
      "1/1 [==============================] - 0s 26ms/step\n",
      "paper\n",
      "<class 'mediapipe.python.solution_base.SolutionOutputs'>\n",
      "1/1 [==============================] - 0s 30ms/step\n",
      "paper\n",
      "<class 'mediapipe.python.solution_base.SolutionOutputs'>\n",
      "1/1 [==============================] - 0s 27ms/step\n",
      "paper\n",
      "<class 'mediapipe.python.solution_base.SolutionOutputs'>\n",
      "1/1 [==============================] - 0s 24ms/step\n",
      "paper\n",
      "<class 'mediapipe.python.solution_base.SolutionOutputs'>\n",
      "1/1 [==============================] - 0s 24ms/step\n",
      "paper\n",
      "<class 'mediapipe.python.solution_base.SolutionOutputs'>\n",
      "1/1 [==============================] - 0s 34ms/step\n",
      "paper\n",
      "<class 'mediapipe.python.solution_base.SolutionOutputs'>\n",
      "1/1 [==============================] - 0s 24ms/step\n",
      "paper\n",
      "<class 'mediapipe.python.solution_base.SolutionOutputs'>\n",
      "1/1 [==============================] - 0s 37ms/step\n",
      "paper\n",
      "<class 'mediapipe.python.solution_base.SolutionOutputs'>\n",
      "1/1 [==============================] - 0s 40ms/step\n",
      "paper\n",
      "<class 'mediapipe.python.solution_base.SolutionOutputs'>\n",
      "1/1 [==============================] - 0s 47ms/step\n",
      "paper\n",
      "<class 'mediapipe.python.solution_base.SolutionOutputs'>\n",
      "1/1 [==============================] - 0s 39ms/step\n",
      "paper\n",
      "<class 'mediapipe.python.solution_base.SolutionOutputs'>\n",
      "1/1 [==============================] - 0s 25ms/step\n",
      "paper\n",
      "<class 'mediapipe.python.solution_base.SolutionOutputs'>\n",
      "1/1 [==============================] - 0s 22ms/step\n",
      "paper\n",
      "<class 'mediapipe.python.solution_base.SolutionOutputs'>\n",
      "1/1 [==============================] - 0s 31ms/step\n",
      "paper\n",
      "<class 'mediapipe.python.solution_base.SolutionOutputs'>\n",
      "1/1 [==============================] - 0s 30ms/step\n",
      "paper\n",
      "<class 'mediapipe.python.solution_base.SolutionOutputs'>\n",
      "1/1 [==============================] - 0s 22ms/step\n",
      "paper\n",
      "<class 'mediapipe.python.solution_base.SolutionOutputs'>\n",
      "1/1 [==============================] - 0s 28ms/step\n",
      "paper\n",
      "<class 'mediapipe.python.solution_base.SolutionOutputs'>\n",
      "1/1 [==============================] - 0s 26ms/step\n",
      "paper\n",
      "<class 'mediapipe.python.solution_base.SolutionOutputs'>\n",
      "1/1 [==============================] - 0s 23ms/step\n",
      "paper\n",
      "<class 'mediapipe.python.solution_base.SolutionOutputs'>\n",
      "1/1 [==============================] - 0s 22ms/step\n",
      "paper\n",
      "<class 'mediapipe.python.solution_base.SolutionOutputs'>\n",
      "1/1 [==============================] - 0s 24ms/step\n",
      "paper\n",
      "<class 'mediapipe.python.solution_base.SolutionOutputs'>\n",
      "1/1 [==============================] - 0s 22ms/step\n",
      "paper\n",
      "<class 'mediapipe.python.solution_base.SolutionOutputs'>\n",
      "1/1 [==============================] - 0s 22ms/step\n",
      "paper\n",
      "<class 'mediapipe.python.solution_base.SolutionOutputs'>\n",
      "1/1 [==============================] - 0s 22ms/step\n",
      "paper\n",
      "<class 'mediapipe.python.solution_base.SolutionOutputs'>\n",
      "1/1 [==============================] - 0s 24ms/step\n",
      "paper\n",
      "<class 'mediapipe.python.solution_base.SolutionOutputs'>\n",
      "1/1 [==============================] - 0s 21ms/step\n",
      "paper\n",
      "<class 'mediapipe.python.solution_base.SolutionOutputs'>\n",
      "1/1 [==============================] - 0s 23ms/step\n",
      "paper\n",
      "<class 'mediapipe.python.solution_base.SolutionOutputs'>\n",
      "1/1 [==============================] - 0s 25ms/step\n",
      "paper\n",
      "<class 'mediapipe.python.solution_base.SolutionOutputs'>\n",
      "1/1 [==============================] - 0s 25ms/step\n",
      "paper\n",
      "<class 'mediapipe.python.solution_base.SolutionOutputs'>\n",
      "1/1 [==============================] - 0s 24ms/step\n",
      "paper\n",
      "<class 'mediapipe.python.solution_base.SolutionOutputs'>\n",
      "1/1 [==============================] - 0s 31ms/step\n",
      "paper\n",
      "<class 'mediapipe.python.solution_base.SolutionOutputs'>\n",
      "1/1 [==============================] - 0s 25ms/step\n",
      "paper\n",
      "<class 'mediapipe.python.solution_base.SolutionOutputs'>\n",
      "1/1 [==============================] - 0s 23ms/step\n",
      "paper\n",
      "<class 'mediapipe.python.solution_base.SolutionOutputs'>\n",
      "1/1 [==============================] - 0s 27ms/step\n",
      "paper\n",
      "<class 'mediapipe.python.solution_base.SolutionOutputs'>\n",
      "1/1 [==============================] - 0s 24ms/step\n",
      "paper\n",
      "<class 'mediapipe.python.solution_base.SolutionOutputs'>\n",
      "1/1 [==============================] - 0s 23ms/step\n",
      "paper\n",
      "<class 'mediapipe.python.solution_base.SolutionOutputs'>\n",
      "1/1 [==============================] - 0s 31ms/step\n",
      "paper\n",
      "<class 'mediapipe.python.solution_base.SolutionOutputs'>\n",
      "1/1 [==============================] - 0s 30ms/step\n",
      "paper\n",
      "<class 'mediapipe.python.solution_base.SolutionOutputs'>\n",
      "1/1 [==============================] - 0s 58ms/step\n",
      "paper\n",
      "<class 'mediapipe.python.solution_base.SolutionOutputs'>\n",
      "1/1 [==============================] - 0s 34ms/step\n",
      "paper\n",
      "<class 'mediapipe.python.solution_base.SolutionOutputs'>\n",
      "1/1 [==============================] - 0s 30ms/step\n",
      "paper\n",
      "<class 'mediapipe.python.solution_base.SolutionOutputs'>\n",
      "1/1 [==============================] - 0s 34ms/step\n",
      "paper\n",
      "<class 'mediapipe.python.solution_base.SolutionOutputs'>\n",
      "1/1 [==============================] - 0s 24ms/step\n",
      "paper\n",
      "<class 'mediapipe.python.solution_base.SolutionOutputs'>\n",
      "1/1 [==============================] - 0s 34ms/step\n",
      "paper\n",
      "<class 'mediapipe.python.solution_base.SolutionOutputs'>\n",
      "1/1 [==============================] - 0s 22ms/step\n",
      "paper\n",
      "<class 'mediapipe.python.solution_base.SolutionOutputs'>\n",
      "1/1 [==============================] - 0s 22ms/step\n",
      "paper\n",
      "<class 'mediapipe.python.solution_base.SolutionOutputs'>\n",
      "1/1 [==============================] - 0s 25ms/step\n",
      "paper\n",
      "<class 'mediapipe.python.solution_base.SolutionOutputs'>\n",
      "1/1 [==============================] - 0s 26ms/step\n",
      "paper\n",
      "<class 'mediapipe.python.solution_base.SolutionOutputs'>\n",
      "1/1 [==============================] - 0s 23ms/step\n",
      "paper\n",
      "<class 'mediapipe.python.solution_base.SolutionOutputs'>\n",
      "1/1 [==============================] - 0s 23ms/step\n",
      "paper\n",
      "<class 'mediapipe.python.solution_base.SolutionOutputs'>\n",
      "1/1 [==============================] - 0s 24ms/step\n",
      "paper\n",
      "<class 'mediapipe.python.solution_base.SolutionOutputs'>\n",
      "1/1 [==============================] - 0s 22ms/step\n",
      "paper\n",
      "<class 'mediapipe.python.solution_base.SolutionOutputs'>\n",
      "1/1 [==============================] - 0s 24ms/step\n",
      "paper\n",
      "<class 'mediapipe.python.solution_base.SolutionOutputs'>\n",
      "1/1 [==============================] - 0s 22ms/step\n",
      "paper\n",
      "<class 'mediapipe.python.solution_base.SolutionOutputs'>\n",
      "1/1 [==============================] - 0s 32ms/step\n",
      "paper\n",
      "<class 'mediapipe.python.solution_base.SolutionOutputs'>\n",
      "1/1 [==============================] - 0s 24ms/step\n",
      "paper\n",
      "<class 'mediapipe.python.solution_base.SolutionOutputs'>\n",
      "1/1 [==============================] - 0s 22ms/step\n",
      "paper\n",
      "<class 'mediapipe.python.solution_base.SolutionOutputs'>\n",
      "1/1 [==============================] - 0s 25ms/step\n",
      "paper\n",
      "<class 'mediapipe.python.solution_base.SolutionOutputs'>\n",
      "1/1 [==============================] - 0s 21ms/step\n",
      "paper\n",
      "<class 'mediapipe.python.solution_base.SolutionOutputs'>\n",
      "1/1 [==============================] - 0s 23ms/step\n",
      "paper\n",
      "<class 'mediapipe.python.solution_base.SolutionOutputs'>\n",
      "1/1 [==============================] - 0s 22ms/step\n",
      "paper\n",
      "<class 'mediapipe.python.solution_base.SolutionOutputs'>\n",
      "1/1 [==============================] - 0s 22ms/step\n",
      "paper\n",
      "<class 'mediapipe.python.solution_base.SolutionOutputs'>\n",
      "1/1 [==============================] - 0s 24ms/step\n",
      "paper\n",
      "<class 'mediapipe.python.solution_base.SolutionOutputs'>\n",
      "1/1 [==============================] - 0s 23ms/step\n",
      "paper\n",
      "<class 'mediapipe.python.solution_base.SolutionOutputs'>\n",
      "1/1 [==============================] - 0s 26ms/step\n",
      "paper\n",
      "<class 'mediapipe.python.solution_base.SolutionOutputs'>\n",
      "1/1 [==============================] - 0s 26ms/step\n",
      "paper\n",
      "<class 'mediapipe.python.solution_base.SolutionOutputs'>\n",
      "1/1 [==============================] - 0s 29ms/step\n",
      "paper\n",
      "<class 'mediapipe.python.solution_base.SolutionOutputs'>\n",
      "1/1 [==============================] - 0s 29ms/step\n",
      "paper\n",
      "<class 'mediapipe.python.solution_base.SolutionOutputs'>\n",
      "1/1 [==============================] - 0s 26ms/step\n",
      "paper\n",
      "<class 'mediapipe.python.solution_base.SolutionOutputs'>\n",
      "1/1 [==============================] - 0s 21ms/step\n",
      "paper\n",
      "<class 'mediapipe.python.solution_base.SolutionOutputs'>\n",
      "1/1 [==============================] - 0s 25ms/step\n",
      "paper\n",
      "<class 'mediapipe.python.solution_base.SolutionOutputs'>\n",
      "1/1 [==============================] - 0s 25ms/step\n",
      "paper\n",
      "<class 'mediapipe.python.solution_base.SolutionOutputs'>\n",
      "1/1 [==============================] - 0s 32ms/step\n",
      "paper\n",
      "<class 'mediapipe.python.solution_base.SolutionOutputs'>\n",
      "1/1 [==============================] - 0s 32ms/step\n",
      "paper\n",
      "<class 'mediapipe.python.solution_base.SolutionOutputs'>\n",
      "1/1 [==============================] - 0s 24ms/step\n",
      "paper\n"
     ]
    }
   ],
   "source": [
    "# 1. New detection variables\n",
    "sequence = []\n",
    "sentence = []\n",
    "threshold = 0.8\n",
    "\n",
    "cap = cv2.VideoCapture(0)\n",
    "# Set mediapipe model \n",
    "with mp_holistic.Holistic(min_detection_confidence=0.5, min_tracking_confidence=0.5) as holistic:\n",
    "    while cap.isOpened():\n",
    "\n",
    "        # Read feed\n",
    "        ret, frame = cap.read()\n",
    "\n",
    "        # Make detections\n",
    "        image, results = mediapipe_detection(frame, holistic)\n",
    "        print(results)\n",
    "        \n",
    "        # Draw landmarks\n",
    "        draw_landmarks(image, results)\n",
    "        \n",
    "        # 2. Prediction logic\n",
    "        keypoints = extract_keypoints(results)\n",
    "#         sequence.insert(0,keypoints)\n",
    "#         sequence = sequence[:30]\n",
    "        sequence.append(keypoints)\n",
    "        sequence = sequence[-30:]\n",
    "        \n",
    "        if len(sequence) == 30:\n",
    "            res = model.predict(np.expand_dims(sequence, axis=0))[0]\n",
    "            print(actions[np.argmax(res)])\n",
    "            \n",
    "            \n",
    "        #3. Viz logic\n",
    "            if res[np.argmax(res)] > threshold: \n",
    "                if len(sentence) > 0: \n",
    "                    if actions[np.argmax(res)] != sentence[-1]:\n",
    "                        sentence.append(actions[np.argmax(res)])\n",
    "                else:\n",
    "                    sentence.append(actions[np.argmax(res)])\n",
    "\n",
    "            if len(sentence) > 5: \n",
    "                sentence = sentence[-5:]\n",
    "\n",
    "            # Viz probabilities\n",
    "            image = prob_viz(res, actions, image, colors)\n",
    "            \n",
    "        cv2.rectangle(image, (0,0), (640, 40), (245, 117, 16), -1)\n",
    "        cv2.putText(image, ' '.join(sentence), (3,30), \n",
    "                       cv2.FONT_HERSHEY_SIMPLEX, 1, (255, 255, 255), 2, cv2.LINE_AA)\n",
    "        \n",
    "        # Show to screen\n",
    "        cv2.imshow('OpenCV Feed', image)\n",
    "\n",
    "        # Break gracefully\n",
    "        if cv2.waitKey(10) & 0xFF == ord('q'):\n",
    "            break\n",
    "    cap.release()\n",
    "    cv2.destroyAllWindows()"
   ]
  },
  {
   "cell_type": "code",
   "execution_count": null,
   "metadata": {},
   "outputs": [],
   "source": [
    "cap.release()\n",
    "cv2.destroyAllWindows()"
   ]
  },
  {
   "cell_type": "code",
   "execution_count": null,
   "metadata": {},
   "outputs": [],
   "source": [
    "res[np.argmax(res)] > threshold"
   ]
  },
  {
   "cell_type": "code",
   "execution_count": null,
   "metadata": {},
   "outputs": [],
   "source": [
    "(num_sequences,30,1662)"
   ]
  },
  {
   "cell_type": "code",
   "execution_count": null,
   "metadata": {},
   "outputs": [],
   "source": [
    "model.predict(np.expand_dims(X_test[0], axis=0))"
   ]
  }
 ],
 "metadata": {
  "kernelspec": {
   "display_name": "Python 3.10.5 64-bit",
   "language": "python",
   "name": "python3"
  },
  "language_info": {
   "codemirror_mode": {
    "name": "ipython",
    "version": 3
   },
   "file_extension": ".py",
   "mimetype": "text/x-python",
   "name": "python",
   "nbconvert_exporter": "python",
   "pygments_lexer": "ipython3",
   "version": "3.10.5"
  },
  "orig_nbformat": 4,
  "vscode": {
   "interpreter": {
    "hash": "107d7b120a5b68773a87d4067e673630b35702e55ebab3138143d08b1c4d7cbc"
   }
  }
 },
 "nbformat": 4,
 "nbformat_minor": 2
}
